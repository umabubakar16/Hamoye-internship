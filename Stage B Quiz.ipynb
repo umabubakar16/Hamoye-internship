{
  "cells": [
    {
      "cell_type": "code",
      "execution_count": null,
      "id": "74012bd0",
      "metadata": {
        "id": "74012bd0"
      },
      "outputs": [],
      "source": [
        "import pandas as pd"
      ]
    },
    {
      "cell_type": "code",
      "execution_count": null,
      "id": "e77eecaa",
      "metadata": {
        "id": "e77eecaa"
      },
      "outputs": [],
      "source": [
        "df = pd.read_csv(\"energydata_complete.csv\")"
      ]
    },
    {
      "cell_type": "code",
      "execution_count": null,
      "id": "575ff84e",
      "metadata": {
        "id": "575ff84e",
        "outputId": "22a1ebae-a88f-48fc-944c-8553fb58fa07"
      },
      "outputs": [
        {
          "data": {
            "text/html": [
              "<div>\n",
              "<style scoped>\n",
              "    .dataframe tbody tr th:only-of-type {\n",
              "        vertical-align: middle;\n",
              "    }\n",
              "\n",
              "    .dataframe tbody tr th {\n",
              "        vertical-align: top;\n",
              "    }\n",
              "\n",
              "    .dataframe thead th {\n",
              "        text-align: right;\n",
              "    }\n",
              "</style>\n",
              "<table border=\"1\" class=\"dataframe\">\n",
              "  <thead>\n",
              "    <tr style=\"text-align: right;\">\n",
              "      <th></th>\n",
              "      <th>date</th>\n",
              "      <th>Appliances</th>\n",
              "      <th>lights</th>\n",
              "      <th>T1</th>\n",
              "      <th>RH_1</th>\n",
              "      <th>T2</th>\n",
              "      <th>RH_2</th>\n",
              "      <th>T3</th>\n",
              "      <th>RH_3</th>\n",
              "      <th>T4</th>\n",
              "      <th>...</th>\n",
              "      <th>T9</th>\n",
              "      <th>RH_9</th>\n",
              "      <th>T_out</th>\n",
              "      <th>Press_mm_hg</th>\n",
              "      <th>RH_out</th>\n",
              "      <th>Windspeed</th>\n",
              "      <th>Visibility</th>\n",
              "      <th>Tdewpoint</th>\n",
              "      <th>rv1</th>\n",
              "      <th>rv2</th>\n",
              "    </tr>\n",
              "  </thead>\n",
              "  <tbody>\n",
              "    <tr>\n",
              "      <th>0</th>\n",
              "      <td>2016-01-11 17:00:00</td>\n",
              "      <td>60</td>\n",
              "      <td>30</td>\n",
              "      <td>19.89</td>\n",
              "      <td>47.596667</td>\n",
              "      <td>19.2</td>\n",
              "      <td>44.790000</td>\n",
              "      <td>19.79</td>\n",
              "      <td>44.730000</td>\n",
              "      <td>19.000000</td>\n",
              "      <td>...</td>\n",
              "      <td>17.033333</td>\n",
              "      <td>45.53</td>\n",
              "      <td>6.600000</td>\n",
              "      <td>733.5</td>\n",
              "      <td>92.0</td>\n",
              "      <td>7.000000</td>\n",
              "      <td>63.000000</td>\n",
              "      <td>5.3</td>\n",
              "      <td>13.275433</td>\n",
              "      <td>13.275433</td>\n",
              "    </tr>\n",
              "    <tr>\n",
              "      <th>1</th>\n",
              "      <td>2016-01-11 17:10:00</td>\n",
              "      <td>60</td>\n",
              "      <td>30</td>\n",
              "      <td>19.89</td>\n",
              "      <td>46.693333</td>\n",
              "      <td>19.2</td>\n",
              "      <td>44.722500</td>\n",
              "      <td>19.79</td>\n",
              "      <td>44.790000</td>\n",
              "      <td>19.000000</td>\n",
              "      <td>...</td>\n",
              "      <td>17.066667</td>\n",
              "      <td>45.56</td>\n",
              "      <td>6.483333</td>\n",
              "      <td>733.6</td>\n",
              "      <td>92.0</td>\n",
              "      <td>6.666667</td>\n",
              "      <td>59.166667</td>\n",
              "      <td>5.2</td>\n",
              "      <td>18.606195</td>\n",
              "      <td>18.606195</td>\n",
              "    </tr>\n",
              "    <tr>\n",
              "      <th>2</th>\n",
              "      <td>2016-01-11 17:20:00</td>\n",
              "      <td>50</td>\n",
              "      <td>30</td>\n",
              "      <td>19.89</td>\n",
              "      <td>46.300000</td>\n",
              "      <td>19.2</td>\n",
              "      <td>44.626667</td>\n",
              "      <td>19.79</td>\n",
              "      <td>44.933333</td>\n",
              "      <td>18.926667</td>\n",
              "      <td>...</td>\n",
              "      <td>17.000000</td>\n",
              "      <td>45.50</td>\n",
              "      <td>6.366667</td>\n",
              "      <td>733.7</td>\n",
              "      <td>92.0</td>\n",
              "      <td>6.333333</td>\n",
              "      <td>55.333333</td>\n",
              "      <td>5.1</td>\n",
              "      <td>28.642668</td>\n",
              "      <td>28.642668</td>\n",
              "    </tr>\n",
              "    <tr>\n",
              "      <th>3</th>\n",
              "      <td>2016-01-11 17:30:00</td>\n",
              "      <td>50</td>\n",
              "      <td>40</td>\n",
              "      <td>19.89</td>\n",
              "      <td>46.066667</td>\n",
              "      <td>19.2</td>\n",
              "      <td>44.590000</td>\n",
              "      <td>19.79</td>\n",
              "      <td>45.000000</td>\n",
              "      <td>18.890000</td>\n",
              "      <td>...</td>\n",
              "      <td>17.000000</td>\n",
              "      <td>45.40</td>\n",
              "      <td>6.250000</td>\n",
              "      <td>733.8</td>\n",
              "      <td>92.0</td>\n",
              "      <td>6.000000</td>\n",
              "      <td>51.500000</td>\n",
              "      <td>5.0</td>\n",
              "      <td>45.410389</td>\n",
              "      <td>45.410389</td>\n",
              "    </tr>\n",
              "    <tr>\n",
              "      <th>4</th>\n",
              "      <td>2016-01-11 17:40:00</td>\n",
              "      <td>60</td>\n",
              "      <td>40</td>\n",
              "      <td>19.89</td>\n",
              "      <td>46.333333</td>\n",
              "      <td>19.2</td>\n",
              "      <td>44.530000</td>\n",
              "      <td>19.79</td>\n",
              "      <td>45.000000</td>\n",
              "      <td>18.890000</td>\n",
              "      <td>...</td>\n",
              "      <td>17.000000</td>\n",
              "      <td>45.40</td>\n",
              "      <td>6.133333</td>\n",
              "      <td>733.9</td>\n",
              "      <td>92.0</td>\n",
              "      <td>5.666667</td>\n",
              "      <td>47.666667</td>\n",
              "      <td>4.9</td>\n",
              "      <td>10.084097</td>\n",
              "      <td>10.084097</td>\n",
              "    </tr>\n",
              "  </tbody>\n",
              "</table>\n",
              "<p>5 rows × 29 columns</p>\n",
              "</div>"
            ],
            "text/plain": [
              "                  date  Appliances  lights     T1       RH_1    T2       RH_2  \\\n",
              "0  2016-01-11 17:00:00          60      30  19.89  47.596667  19.2  44.790000   \n",
              "1  2016-01-11 17:10:00          60      30  19.89  46.693333  19.2  44.722500   \n",
              "2  2016-01-11 17:20:00          50      30  19.89  46.300000  19.2  44.626667   \n",
              "3  2016-01-11 17:30:00          50      40  19.89  46.066667  19.2  44.590000   \n",
              "4  2016-01-11 17:40:00          60      40  19.89  46.333333  19.2  44.530000   \n",
              "\n",
              "      T3       RH_3         T4  ...         T9   RH_9     T_out  Press_mm_hg  \\\n",
              "0  19.79  44.730000  19.000000  ...  17.033333  45.53  6.600000        733.5   \n",
              "1  19.79  44.790000  19.000000  ...  17.066667  45.56  6.483333        733.6   \n",
              "2  19.79  44.933333  18.926667  ...  17.000000  45.50  6.366667        733.7   \n",
              "3  19.79  45.000000  18.890000  ...  17.000000  45.40  6.250000        733.8   \n",
              "4  19.79  45.000000  18.890000  ...  17.000000  45.40  6.133333        733.9   \n",
              "\n",
              "   RH_out  Windspeed  Visibility  Tdewpoint        rv1        rv2  \n",
              "0    92.0   7.000000   63.000000        5.3  13.275433  13.275433  \n",
              "1    92.0   6.666667   59.166667        5.2  18.606195  18.606195  \n",
              "2    92.0   6.333333   55.333333        5.1  28.642668  28.642668  \n",
              "3    92.0   6.000000   51.500000        5.0  45.410389  45.410389  \n",
              "4    92.0   5.666667   47.666667        4.9  10.084097  10.084097  \n",
              "\n",
              "[5 rows x 29 columns]"
            ]
          },
          "execution_count": 4,
          "metadata": {},
          "output_type": "execute_result"
        }
      ],
      "source": [
        "df.head()"
      ]
    },
    {
      "cell_type": "code",
      "execution_count": null,
      "id": "6fce559d",
      "metadata": {
        "id": "6fce559d"
      },
      "outputs": [],
      "source": [
        "df.drop('date', inplace=True, axis=1)"
      ]
    },
    {
      "cell_type": "code",
      "execution_count": null,
      "id": "ab527958",
      "metadata": {
        "id": "ab527958",
        "outputId": "9be80ec5-4ac4-44c2-fda0-5bdb5a6b8381"
      },
      "outputs": [
        {
          "data": {
            "text/plain": [
              "Index(['Appliances', 'lights', 'T1', 'RH_1', 'T2', 'RH_2', 'T3', 'RH_3', 'T4',\n",
              "       'RH_4', 'T5', 'RH_5', 'T6', 'RH_6', 'T7', 'RH_7', 'T8', 'RH_8', 'T9',\n",
              "       'RH_9', 'T_out', 'Press_mm_hg', 'RH_out', 'Windspeed', 'Visibility',\n",
              "       'Tdewpoint', 'rv1', 'rv2'],\n",
              "      dtype='object')"
            ]
          },
          "execution_count": 15,
          "metadata": {},
          "output_type": "execute_result"
        }
      ],
      "source": [
        "columns = df.columns\n",
        "columns"
      ]
    },
    {
      "cell_type": "code",
      "execution_count": null,
      "id": "ccbb1ff6",
      "metadata": {
        "id": "ccbb1ff6"
      },
      "outputs": [],
      "source": [
        "for col in columns:\n",
        "    df[col] = df[col].round(2)"
      ]
    },
    {
      "cell_type": "code",
      "execution_count": null,
      "id": "d2c72e58",
      "metadata": {
        "id": "d2c72e58",
        "outputId": "8a694db3-692f-48f6-afe5-37f0646c3448"
      },
      "outputs": [
        {
          "data": {
            "text/html": [
              "<div>\n",
              "<style scoped>\n",
              "    .dataframe tbody tr th:only-of-type {\n",
              "        vertical-align: middle;\n",
              "    }\n",
              "\n",
              "    .dataframe tbody tr th {\n",
              "        vertical-align: top;\n",
              "    }\n",
              "\n",
              "    .dataframe thead th {\n",
              "        text-align: right;\n",
              "    }\n",
              "</style>\n",
              "<table border=\"1\" class=\"dataframe\">\n",
              "  <thead>\n",
              "    <tr style=\"text-align: right;\">\n",
              "      <th></th>\n",
              "      <th>Appliances</th>\n",
              "      <th>lights</th>\n",
              "      <th>T1</th>\n",
              "      <th>RH_1</th>\n",
              "      <th>T2</th>\n",
              "      <th>RH_2</th>\n",
              "      <th>T3</th>\n",
              "      <th>RH_3</th>\n",
              "      <th>T4</th>\n",
              "      <th>RH_4</th>\n",
              "      <th>...</th>\n",
              "      <th>T9</th>\n",
              "      <th>RH_9</th>\n",
              "      <th>T_out</th>\n",
              "      <th>Press_mm_hg</th>\n",
              "      <th>RH_out</th>\n",
              "      <th>Windspeed</th>\n",
              "      <th>Visibility</th>\n",
              "      <th>Tdewpoint</th>\n",
              "      <th>rv1</th>\n",
              "      <th>rv2</th>\n",
              "    </tr>\n",
              "  </thead>\n",
              "  <tbody>\n",
              "    <tr>\n",
              "      <th>0</th>\n",
              "      <td>60</td>\n",
              "      <td>30</td>\n",
              "      <td>19.89</td>\n",
              "      <td>47.60</td>\n",
              "      <td>19.20</td>\n",
              "      <td>44.79</td>\n",
              "      <td>19.79</td>\n",
              "      <td>44.73</td>\n",
              "      <td>19.00</td>\n",
              "      <td>45.57</td>\n",
              "      <td>...</td>\n",
              "      <td>17.03</td>\n",
              "      <td>45.53</td>\n",
              "      <td>6.60</td>\n",
              "      <td>733.5</td>\n",
              "      <td>92.00</td>\n",
              "      <td>7.00</td>\n",
              "      <td>63.00</td>\n",
              "      <td>5.30</td>\n",
              "      <td>13.28</td>\n",
              "      <td>13.28</td>\n",
              "    </tr>\n",
              "    <tr>\n",
              "      <th>1</th>\n",
              "      <td>60</td>\n",
              "      <td>30</td>\n",
              "      <td>19.89</td>\n",
              "      <td>46.69</td>\n",
              "      <td>19.20</td>\n",
              "      <td>44.72</td>\n",
              "      <td>19.79</td>\n",
              "      <td>44.79</td>\n",
              "      <td>19.00</td>\n",
              "      <td>45.99</td>\n",
              "      <td>...</td>\n",
              "      <td>17.07</td>\n",
              "      <td>45.56</td>\n",
              "      <td>6.48</td>\n",
              "      <td>733.6</td>\n",
              "      <td>92.00</td>\n",
              "      <td>6.67</td>\n",
              "      <td>59.17</td>\n",
              "      <td>5.20</td>\n",
              "      <td>18.61</td>\n",
              "      <td>18.61</td>\n",
              "    </tr>\n",
              "    <tr>\n",
              "      <th>2</th>\n",
              "      <td>50</td>\n",
              "      <td>30</td>\n",
              "      <td>19.89</td>\n",
              "      <td>46.30</td>\n",
              "      <td>19.20</td>\n",
              "      <td>44.63</td>\n",
              "      <td>19.79</td>\n",
              "      <td>44.93</td>\n",
              "      <td>18.93</td>\n",
              "      <td>45.89</td>\n",
              "      <td>...</td>\n",
              "      <td>17.00</td>\n",
              "      <td>45.50</td>\n",
              "      <td>6.37</td>\n",
              "      <td>733.7</td>\n",
              "      <td>92.00</td>\n",
              "      <td>6.33</td>\n",
              "      <td>55.33</td>\n",
              "      <td>5.10</td>\n",
              "      <td>28.64</td>\n",
              "      <td>28.64</td>\n",
              "    </tr>\n",
              "    <tr>\n",
              "      <th>3</th>\n",
              "      <td>50</td>\n",
              "      <td>40</td>\n",
              "      <td>19.89</td>\n",
              "      <td>46.07</td>\n",
              "      <td>19.20</td>\n",
              "      <td>44.59</td>\n",
              "      <td>19.79</td>\n",
              "      <td>45.00</td>\n",
              "      <td>18.89</td>\n",
              "      <td>45.72</td>\n",
              "      <td>...</td>\n",
              "      <td>17.00</td>\n",
              "      <td>45.40</td>\n",
              "      <td>6.25</td>\n",
              "      <td>733.8</td>\n",
              "      <td>92.00</td>\n",
              "      <td>6.00</td>\n",
              "      <td>51.50</td>\n",
              "      <td>5.00</td>\n",
              "      <td>45.41</td>\n",
              "      <td>45.41</td>\n",
              "    </tr>\n",
              "    <tr>\n",
              "      <th>4</th>\n",
              "      <td>60</td>\n",
              "      <td>40</td>\n",
              "      <td>19.89</td>\n",
              "      <td>46.33</td>\n",
              "      <td>19.20</td>\n",
              "      <td>44.53</td>\n",
              "      <td>19.79</td>\n",
              "      <td>45.00</td>\n",
              "      <td>18.89</td>\n",
              "      <td>45.53</td>\n",
              "      <td>...</td>\n",
              "      <td>17.00</td>\n",
              "      <td>45.40</td>\n",
              "      <td>6.13</td>\n",
              "      <td>733.9</td>\n",
              "      <td>92.00</td>\n",
              "      <td>5.67</td>\n",
              "      <td>47.67</td>\n",
              "      <td>4.90</td>\n",
              "      <td>10.08</td>\n",
              "      <td>10.08</td>\n",
              "    </tr>\n",
              "    <tr>\n",
              "      <th>...</th>\n",
              "      <td>...</td>\n",
              "      <td>...</td>\n",
              "      <td>...</td>\n",
              "      <td>...</td>\n",
              "      <td>...</td>\n",
              "      <td>...</td>\n",
              "      <td>...</td>\n",
              "      <td>...</td>\n",
              "      <td>...</td>\n",
              "      <td>...</td>\n",
              "      <td>...</td>\n",
              "      <td>...</td>\n",
              "      <td>...</td>\n",
              "      <td>...</td>\n",
              "      <td>...</td>\n",
              "      <td>...</td>\n",
              "      <td>...</td>\n",
              "      <td>...</td>\n",
              "      <td>...</td>\n",
              "      <td>...</td>\n",
              "      <td>...</td>\n",
              "    </tr>\n",
              "    <tr>\n",
              "      <th>19730</th>\n",
              "      <td>100</td>\n",
              "      <td>0</td>\n",
              "      <td>25.57</td>\n",
              "      <td>46.56</td>\n",
              "      <td>25.89</td>\n",
              "      <td>42.03</td>\n",
              "      <td>27.20</td>\n",
              "      <td>41.16</td>\n",
              "      <td>24.70</td>\n",
              "      <td>45.59</td>\n",
              "      <td>...</td>\n",
              "      <td>23.20</td>\n",
              "      <td>46.79</td>\n",
              "      <td>22.73</td>\n",
              "      <td>755.2</td>\n",
              "      <td>55.67</td>\n",
              "      <td>3.33</td>\n",
              "      <td>23.67</td>\n",
              "      <td>13.33</td>\n",
              "      <td>43.10</td>\n",
              "      <td>43.10</td>\n",
              "    </tr>\n",
              "    <tr>\n",
              "      <th>19731</th>\n",
              "      <td>90</td>\n",
              "      <td>0</td>\n",
              "      <td>25.50</td>\n",
              "      <td>46.50</td>\n",
              "      <td>25.75</td>\n",
              "      <td>42.08</td>\n",
              "      <td>27.13</td>\n",
              "      <td>41.22</td>\n",
              "      <td>24.70</td>\n",
              "      <td>45.59</td>\n",
              "      <td>...</td>\n",
              "      <td>23.20</td>\n",
              "      <td>46.79</td>\n",
              "      <td>22.60</td>\n",
              "      <td>755.2</td>\n",
              "      <td>56.00</td>\n",
              "      <td>3.50</td>\n",
              "      <td>24.50</td>\n",
              "      <td>13.30</td>\n",
              "      <td>49.28</td>\n",
              "      <td>49.28</td>\n",
              "    </tr>\n",
              "    <tr>\n",
              "      <th>19732</th>\n",
              "      <td>270</td>\n",
              "      <td>10</td>\n",
              "      <td>25.50</td>\n",
              "      <td>46.60</td>\n",
              "      <td>25.63</td>\n",
              "      <td>42.77</td>\n",
              "      <td>27.05</td>\n",
              "      <td>41.69</td>\n",
              "      <td>24.70</td>\n",
              "      <td>45.73</td>\n",
              "      <td>...</td>\n",
              "      <td>23.20</td>\n",
              "      <td>46.79</td>\n",
              "      <td>22.47</td>\n",
              "      <td>755.2</td>\n",
              "      <td>56.33</td>\n",
              "      <td>3.67</td>\n",
              "      <td>25.33</td>\n",
              "      <td>13.27</td>\n",
              "      <td>29.20</td>\n",
              "      <td>29.20</td>\n",
              "    </tr>\n",
              "    <tr>\n",
              "      <th>19733</th>\n",
              "      <td>420</td>\n",
              "      <td>10</td>\n",
              "      <td>25.50</td>\n",
              "      <td>46.99</td>\n",
              "      <td>25.41</td>\n",
              "      <td>43.04</td>\n",
              "      <td>26.89</td>\n",
              "      <td>41.29</td>\n",
              "      <td>24.70</td>\n",
              "      <td>45.79</td>\n",
              "      <td>...</td>\n",
              "      <td>23.20</td>\n",
              "      <td>46.82</td>\n",
              "      <td>22.33</td>\n",
              "      <td>755.2</td>\n",
              "      <td>56.67</td>\n",
              "      <td>3.83</td>\n",
              "      <td>26.17</td>\n",
              "      <td>13.23</td>\n",
              "      <td>6.32</td>\n",
              "      <td>6.32</td>\n",
              "    </tr>\n",
              "    <tr>\n",
              "      <th>19734</th>\n",
              "      <td>430</td>\n",
              "      <td>10</td>\n",
              "      <td>25.50</td>\n",
              "      <td>46.60</td>\n",
              "      <td>25.26</td>\n",
              "      <td>42.97</td>\n",
              "      <td>26.82</td>\n",
              "      <td>41.16</td>\n",
              "      <td>24.70</td>\n",
              "      <td>45.96</td>\n",
              "      <td>...</td>\n",
              "      <td>23.20</td>\n",
              "      <td>46.84</td>\n",
              "      <td>22.20</td>\n",
              "      <td>755.2</td>\n",
              "      <td>57.00</td>\n",
              "      <td>4.00</td>\n",
              "      <td>27.00</td>\n",
              "      <td>13.20</td>\n",
              "      <td>34.12</td>\n",
              "      <td>34.12</td>\n",
              "    </tr>\n",
              "  </tbody>\n",
              "</table>\n",
              "<p>19735 rows × 28 columns</p>\n",
              "</div>"
            ],
            "text/plain": [
              "       Appliances  lights     T1   RH_1     T2   RH_2     T3   RH_3     T4  \\\n",
              "0              60      30  19.89  47.60  19.20  44.79  19.79  44.73  19.00   \n",
              "1              60      30  19.89  46.69  19.20  44.72  19.79  44.79  19.00   \n",
              "2              50      30  19.89  46.30  19.20  44.63  19.79  44.93  18.93   \n",
              "3              50      40  19.89  46.07  19.20  44.59  19.79  45.00  18.89   \n",
              "4              60      40  19.89  46.33  19.20  44.53  19.79  45.00  18.89   \n",
              "...           ...     ...    ...    ...    ...    ...    ...    ...    ...   \n",
              "19730         100       0  25.57  46.56  25.89  42.03  27.20  41.16  24.70   \n",
              "19731          90       0  25.50  46.50  25.75  42.08  27.13  41.22  24.70   \n",
              "19732         270      10  25.50  46.60  25.63  42.77  27.05  41.69  24.70   \n",
              "19733         420      10  25.50  46.99  25.41  43.04  26.89  41.29  24.70   \n",
              "19734         430      10  25.50  46.60  25.26  42.97  26.82  41.16  24.70   \n",
              "\n",
              "        RH_4  ...     T9   RH_9  T_out  Press_mm_hg  RH_out  Windspeed  \\\n",
              "0      45.57  ...  17.03  45.53   6.60        733.5   92.00       7.00   \n",
              "1      45.99  ...  17.07  45.56   6.48        733.6   92.00       6.67   \n",
              "2      45.89  ...  17.00  45.50   6.37        733.7   92.00       6.33   \n",
              "3      45.72  ...  17.00  45.40   6.25        733.8   92.00       6.00   \n",
              "4      45.53  ...  17.00  45.40   6.13        733.9   92.00       5.67   \n",
              "...      ...  ...    ...    ...    ...          ...     ...        ...   \n",
              "19730  45.59  ...  23.20  46.79  22.73        755.2   55.67       3.33   \n",
              "19731  45.59  ...  23.20  46.79  22.60        755.2   56.00       3.50   \n",
              "19732  45.73  ...  23.20  46.79  22.47        755.2   56.33       3.67   \n",
              "19733  45.79  ...  23.20  46.82  22.33        755.2   56.67       3.83   \n",
              "19734  45.96  ...  23.20  46.84  22.20        755.2   57.00       4.00   \n",
              "\n",
              "       Visibility  Tdewpoint    rv1    rv2  \n",
              "0           63.00       5.30  13.28  13.28  \n",
              "1           59.17       5.20  18.61  18.61  \n",
              "2           55.33       5.10  28.64  28.64  \n",
              "3           51.50       5.00  45.41  45.41  \n",
              "4           47.67       4.90  10.08  10.08  \n",
              "...           ...        ...    ...    ...  \n",
              "19730       23.67      13.33  43.10  43.10  \n",
              "19731       24.50      13.30  49.28  49.28  \n",
              "19732       25.33      13.27  29.20  29.20  \n",
              "19733       26.17      13.23   6.32   6.32  \n",
              "19734       27.00      13.20  34.12  34.12  \n",
              "\n",
              "[19735 rows x 28 columns]"
            ]
          },
          "execution_count": 18,
          "metadata": {},
          "output_type": "execute_result"
        }
      ],
      "source": [
        "df"
      ]
    },
    {
      "cell_type": "markdown",
      "source": [
        "Question 17: What is the Root Mean Squared error in three D.P?"
      ],
      "metadata": {
        "id": "K_iuMeRPNyjG"
      },
      "id": "K_iuMeRPNyjG"
    },
    {
      "cell_type": "code",
      "execution_count": null,
      "id": "a4954d41",
      "metadata": {
        "id": "a4954d41",
        "outputId": "4843cb4b-5b7d-4b99-dc64-e8373c56a590"
      },
      "outputs": [
        {
          "name": "stdout",
          "output_type": "stream",
          "text": [
            "Root Mean Squared Error (RMSE): 3.645\n"
          ]
        }
      ],
      "source": [
        "import numpy as np\n",
        "from sklearn.linear_model import LinearRegression\n",
        "from sklearn.metrics import mean_squared_error\n",
        "\n",
        "\n",
        "x = df[\"T2\"].values\n",
        "y = df[\"T6\"].values\n",
        "\n",
        "# Reshape the data\n",
        "x = x.reshape(-1, 1)\n",
        "y = y.reshape(-1, 1)\n",
        "\n",
        "# Create a linear regression model\n",
        "model = LinearRegression()\n",
        "\n",
        "# Fit the model to the data\n",
        "model.fit(x, y)\n",
        "\n",
        "# Make predictions using the model\n",
        "predictions = model.predict(x)\n",
        "\n",
        "# Calculate the RMSE\n",
        "rmse = np.sqrt(mean_squared_error(y, predictions))\n",
        "\n",
        "# Print the RMSE with three decimal places\n",
        "print(f'Root Mean Squared Error (RMSE): {rmse:.3f}')\n"
      ]
    },
    {
      "cell_type": "markdown",
      "source": [
        "Question 18: What is the Mean Absolute Error (in three decimal places) for the  training set?"
      ],
      "metadata": {
        "id": "_jCEM2MkPjep"
      },
      "id": "_jCEM2MkPjep"
    },
    {
      "cell_type": "code",
      "execution_count": null,
      "id": "50be3bc8",
      "metadata": {
        "id": "50be3bc8"
      },
      "outputs": [],
      "source": [
        "df.drop('lights', inplace=True, axis=1)"
      ]
    },
    {
      "cell_type": "code",
      "execution_count": null,
      "id": "4c9daf92",
      "metadata": {
        "id": "4c9daf92",
        "outputId": "52545bd4-e868-4e61-8fa8-c94147402f01"
      },
      "outputs": [
        {
          "name": "stdout",
          "output_type": "stream",
          "text": [
            "Mean Absolute Error (MAE) for the training set: 53.742\n"
          ]
        }
      ],
      "source": [
        "from sklearn.model_selection import train_test_split\n",
        "from sklearn.preprocessing import MinMaxScaler\n",
        "from sklearn.metrics import mean_absolute_error\n",
        "\n",
        "\n",
        "x = df.drop('Appliances', axis=1)\n",
        "y= df[\"Appliances\"]\n",
        "\n",
        "X_train, X_test, y_train, y_test = train_test_split(x, y, test_size=0.3, random_state=42)\n",
        "\n",
        "# Initialize the MinMaxScaler\n",
        "scaler = MinMaxScaler()\n",
        "\n",
        "# Fit and transform the scaler on the training data\n",
        "X_train_scaled = scaler.fit_transform(X_train)\n",
        "\n",
        "# Transform the test data using the same scaler\n",
        "X_test_scaled = scaler.transform(X_test)\n",
        "\n",
        "# Create a linear regression model\n",
        "model = LinearRegression()\n",
        "\n",
        "# Fit the model to the training data\n",
        "model.fit(X_train_scaled, y_train)\n",
        "\n",
        "# Make predictions on the training set\n",
        "train_predictions = model.predict(X_train_scaled)\n",
        "\n",
        "# Calculate the Mean Absolute Error (MAE) on the training set\n",
        "mae_train = mean_absolute_error(y_train, train_predictions)\n",
        "\n",
        "# Print the MAE with three decimal places\n",
        "print(f'Mean Absolute Error (MAE) of the training set: {mae_train:.3f}')\n"
      ]
    },
    {
      "cell_type": "markdown",
      "source": [
        "Question 19:What is the Root Mean Squared Error (in three decimal places) for the training set?"
      ],
      "metadata": {
        "id": "5Y7FVi34P5uo"
      },
      "id": "5Y7FVi34P5uo"
    },
    {
      "cell_type": "code",
      "execution_count": null,
      "id": "359317a4",
      "metadata": {
        "id": "359317a4",
        "outputId": "5a76a13d-bd80-40b5-eb62-2bbaeac923ee"
      },
      "outputs": [
        {
          "data": {
            "text/plain": [
              "95.21492244510539"
            ]
          },
          "execution_count": 30,
          "metadata": {},
          "output_type": "execute_result"
        }
      ],
      "source": [
        "#Calculate RMSE on training set\n",
        "rmse = np.sqrt(mean_squared_error(y_train, train_predictions))\n",
        "rmse"
      ]
    },
    {
      "cell_type": "markdown",
      "source": [
        "Question 20: What is the Mean Absolute Error (in three decimal places) for test set?"
      ],
      "metadata": {
        "id": "8KYwITcYQIDT"
      },
      "id": "8KYwITcYQIDT"
    },
    {
      "cell_type": "code",
      "execution_count": null,
      "id": "b6429fe7",
      "metadata": {
        "id": "b6429fe7",
        "outputId": "be023704-5a25-439b-d9c1-a56029bdf85a"
      },
      "outputs": [
        {
          "name": "stdout",
          "output_type": "stream",
          "text": [
            "Mean Absolute Error (MAE) for the test set: 53.641\n"
          ]
        }
      ],
      "source": [
        "# Make predictions on the test set\n",
        "test_predictions = model.predict(X_test_scaled)\n",
        "\n",
        "# Calculate the Mean Absolute Error (MAE) on the test set\n",
        "mae_test = mean_absolute_error(y_test, test_predictions)\n",
        "\n",
        "# Print the MAE with three decimal places\n",
        "print(f'Mean Absolute Error (MAE) for the test set: {mae_test:.3f}')"
      ]
    },
    {
      "cell_type": "markdown",
      "source": [
        "Question 21: What is the Root Mean Squared Error (in three decimal places) for test set?"
      ],
      "metadata": {
        "id": "dsgFE_VrQZoN"
      },
      "id": "dsgFE_VrQZoN"
    },
    {
      "cell_type": "code",
      "execution_count": null,
      "id": "03b71f6f",
      "metadata": {
        "id": "03b71f6f",
        "outputId": "24c07752-7d3f-4d41-8450-0a9ec241cf94"
      },
      "outputs": [
        {
          "name": "stdout",
          "output_type": "stream",
          "text": [
            "RMSE for test data 93.640\n"
          ]
        }
      ],
      "source": [
        "# Calculate the Mean Squared Error (MSE) on the test set\n",
        "mse_test = np.sqrt(mean_squared_error(y_test, test_predictions))\n",
        "print(f\"RMSE for test set: {mse_test:.3f}\")"
      ]
    },
    {
      "cell_type": "code",
      "execution_count": null,
      "id": "4d732395",
      "metadata": {
        "id": "4d732395",
        "outputId": "e1adff4d-e1e7-4b5b-86ac-318dc96dd16a"
      },
      "outputs": [
        {
          "name": "stdout",
          "output_type": "stream",
          "text": [
            "Mean Absolute Error (MAE) for the training set: 53.629\n",
            "RMSE for training set: 95.259\n"
          ]
        }
      ],
      "source": [
        "from sklearn.linear_model import Ridge\n",
        "from sklearn.metrics import mean_squared_error\n",
        "import numpy as np\n",
        "\n",
        "# ...\n",
        "\n",
        "# Create a Ridge regression model with default parameters\n",
        "ridge_model = Ridge()\n",
        "\n",
        "# Fit the Ridge model to the training data\n",
        "ridge_model.fit(X_train_scaled, y_train)\n",
        "\n",
        "# Make predictions on the training set\n",
        "train_predictions = ridge_model.predict(X_train_scaled)\n",
        "\n",
        "# Calculate the Mean Absolute Error (MAE) on the training set\n",
        "mae_train = mean_absolute_error(y_train, train_predictions)\n",
        "\n",
        "# Calculate the Root Mean Squared Error (RMSE) on the training set\n",
        "rmse_train = np.sqrt(mean_squared_error(y_train, train_predictions))\n",
        "\n",
        "# Print the MAE and RMSE with three decimal places for the training set\n",
        "print(f'Mean Absolute Error (MAE) for the training set: {mae_train:.3f}')\n",
        "print(f'RMSE for training set: {rmse_train:.3f}')\n",
        "\n",
        "# Make predictions on the test set\n",
        "test_predictions = ridge_model.predict(X_test_scaled)\n",
        "\n",
        "# Calculate the Mean Absolute Error (MAE) on the test set\n",
        "mae_test = mean_absolute_error(y_test, test_predictions)\n",
        "\n",
        "# Calculate the Root Mean Squared Error (RMSE) on the test set\n",
        "rmse_test = np.sqrt(mean_squared_error(y_test, test_predictions))"
      ]
    },
    {
      "cell_type": "code",
      "execution_count": null,
      "id": "daba091a",
      "metadata": {
        "id": "daba091a",
        "outputId": "ce67a01f-7960-4fdb-adea-6c7edd8bec8e"
      },
      "outputs": [
        {
          "name": "stdout",
          "output_type": "stream",
          "text": [
            "Mean Absolute Error (MAE) for the test set: 53.572\n",
            "RMSE for test set: 93.708\n"
          ]
        }
      ],
      "source": [
        "# Print the MAE and RMSE with three decimal places for the test set\n",
        "print(f'Mean Absolute Error (MAE) for the test set: {mae_test:.3f}')\n",
        "print(f'RMSE for test set: {rmse_test:.3f}')"
      ]
    },
    {
      "cell_type": "markdown",
      "source": [
        "Question 24:How many of the features have non-zero feature weights?"
      ],
      "metadata": {
        "id": "QRekLL5NRtRG"
      },
      "id": "QRekLL5NRtRG"
    },
    {
      "cell_type": "code",
      "execution_count": null,
      "id": "d9f563a1",
      "metadata": {
        "id": "d9f563a1",
        "outputId": "6ff6ad54-aea4-48d0-f23d-2b3ee2597647"
      },
      "outputs": [
        {
          "name": "stdout",
          "output_type": "stream",
          "text": [
            "Number of features with non-zero weights: 4\n"
          ]
        }
      ],
      "source": [
        "from sklearn.linear_model import Lasso\n",
        "\n",
        "# Create a Lasso regression model with default alpha (alpha=1.0)\n",
        "lasso_model = Lasso()\n",
        "\n",
        "# Fit the Lasso model to the training data\n",
        "lasso_model.fit(X_train_scaled, y_train)\n",
        "\n",
        "# Obtain the feature coefficients (weights)\n",
        "feature_weights = lasso_model.coef_\n",
        "\n",
        "# Count the number of features with non-zero weights\n",
        "non_zero_features = sum(feature_weights != 0)\n",
        "\n",
        "print(f'Number of features with non-zero weights: {non_zero_features}')\n"
      ]
    },
    {
      "cell_type": "code",
      "execution_count": null,
      "id": "b508c1ad",
      "metadata": {
        "id": "b508c1ad"
      },
      "outputs": [],
      "source": []
    }
  ],
  "metadata": {
    "kernelspec": {
      "display_name": "Python 3 (ipykernel)",
      "language": "python",
      "name": "python3"
    },
    "language_info": {
      "codemirror_mode": {
        "name": "ipython",
        "version": 3
      },
      "file_extension": ".py",
      "mimetype": "text/x-python",
      "name": "python",
      "nbconvert_exporter": "python",
      "pygments_lexer": "ipython3",
      "version": "3.9.7"
    },
    "colab": {
      "provenance": []
    }
  },
  "nbformat": 4,
  "nbformat_minor": 5
}